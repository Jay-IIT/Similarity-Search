{
 "cells": [
  {
   "cell_type": "markdown",
   "id": "4e6cfdfe",
   "metadata": {},
   "source": [
    "# Authored By Jayavelu Balaji \n",
    " "
   ]
  },
  {
   "cell_type": "code",
   "execution_count": 21,
   "id": "6796e695",
   "metadata": {},
   "outputs": [],
   "source": [
    "#Jayavelu BAlaji\n",
    "import pandas as pd\n",
    "import ast\n",
    "import numpy as np\n",
    "import pandas as pd\n",
    "from sklearn.impute import KNNImputer\n",
    "from sklearn.feature_extraction.text import TfidfVectorizer\n",
    "import numpy as np # linear algebra\n",
    "from sklearn.model_selection import train_test_split\n",
    "from sklearn.ensemble import RandomForestClassifier\n",
    "from sklearn.metrics import accuracy_score, classification_report\n",
    "from sklearn.preprocessing import LabelEncoder\n",
    "\n",
    "# Create the class_type_df import pandas as pd\n",
    "import numpy as np\n",
    "from sklearn.model_selection import train_test_split\n",
    "from sklearn.ensemble import RandomForestClassifier\n",
    "from sklearn.metrics import accuracy_score, classification_report\n",
    "from sklearn.preprocessing import OneHotEncoder\n",
    "from sklearn.linear_model import LinearRegression\n",
    "from sklearn.model_selection import cross_val_predict\n",
    "\n"
   ]
  },
  {
   "cell_type": "code",
   "execution_count": 22,
   "id": "fa41a551",
   "metadata": {},
   "outputs": [
    {
     "data": {
      "text/html": [
       "<div>\n",
       "<style scoped>\n",
       "    .dataframe tbody tr th:only-of-type {\n",
       "        vertical-align: middle;\n",
       "    }\n",
       "\n",
       "    .dataframe tbody tr th {\n",
       "        vertical-align: top;\n",
       "    }\n",
       "\n",
       "    .dataframe thead th {\n",
       "        text-align: right;\n",
       "    }\n",
       "</style>\n",
       "<table border=\"1\" class=\"dataframe\">\n",
       "  <thead>\n",
       "    <tr style=\"text-align: right;\">\n",
       "      <th></th>\n",
       "      <th>id</th>\n",
       "      <th>availability</th>\n",
       "      <th>class_type_ids</th>\n",
       "      <th>content_provider</th>\n",
       "      <th>content_format</th>\n",
       "      <th>description</th>\n",
       "      <th>difficulty_estimate</th>\n",
       "      <th>overall_estimate</th>\n",
       "      <th>difficulty_rating_avg</th>\n",
       "      <th>difficulty_rating_count</th>\n",
       "      <th>...</th>\n",
       "      <th>thumbnail_title</th>\n",
       "      <th>thumbnail_location</th>\n",
       "      <th>distance</th>\n",
       "      <th>distance_unit</th>\n",
       "      <th>distance_display_value</th>\n",
       "      <th>muscle_group_score</th>\n",
       "      <th>is_sessions_eligible</th>\n",
       "      <th>total_user_workouts</th>\n",
       "      <th>total_following_workouts</th>\n",
       "      <th>is_favorite</th>\n",
       "    </tr>\n",
       "  </thead>\n",
       "  <tbody>\n",
       "    <tr>\n",
       "      <th>0</th>\n",
       "      <td>d70e8e47a5be45f7aed2c8d9744cc94c</td>\n",
       "      <td>{'is_available': True, 'reason': None}</td>\n",
       "      <td>['a9456fd677744f2ab9504d4accae96fd']</td>\n",
       "      <td>peloton</td>\n",
       "      <td>video</td>\n",
       "      <td>Run to the beat of a high-energy pop playlist ...</td>\n",
       "      <td>6.6279</td>\n",
       "      <td>1.0000</td>\n",
       "      <td>6.6279</td>\n",
       "      <td>43</td>\n",
       "      <td>...</td>\n",
       "      <td>NaN</td>\n",
       "      <td>NaN</td>\n",
       "      <td>NaN</td>\n",
       "      <td>NaN</td>\n",
       "      <td>NaN</td>\n",
       "      <td>[]</td>\n",
       "      <td>False</td>\n",
       "      <td>0</td>\n",
       "      <td>0</td>\n",
       "      <td>False</td>\n",
       "    </tr>\n",
       "    <tr>\n",
       "      <th>1</th>\n",
       "      <td>85dea6c843a143dca489d73a1d59fee0</td>\n",
       "      <td>{'is_available': True, 'reason': None}</td>\n",
       "      <td>['59a49f882ea9475faa3110d50a8fb3f3']</td>\n",
       "      <td>peloton</td>\n",
       "      <td>video</td>\n",
       "      <td>This class is spent primarily in the saddle to...</td>\n",
       "      <td>6.2143</td>\n",
       "      <td>1.0000</td>\n",
       "      <td>6.2143</td>\n",
       "      <td>308</td>\n",
       "      <td>...</td>\n",
       "      <td>NaN</td>\n",
       "      <td>NaN</td>\n",
       "      <td>NaN</td>\n",
       "      <td>NaN</td>\n",
       "      <td>NaN</td>\n",
       "      <td>[]</td>\n",
       "      <td>True</td>\n",
       "      <td>0</td>\n",
       "      <td>0</td>\n",
       "      <td>False</td>\n",
       "    </tr>\n",
       "    <tr>\n",
       "      <th>2</th>\n",
       "      <td>9631041632fd488b80f5a8aacd69fb7d</td>\n",
       "      <td>{'is_available': True, 'reason': None}</td>\n",
       "      <td>['6f3663cb0c4840f2bd51661695e481d2']</td>\n",
       "      <td>peloton</td>\n",
       "      <td>video</td>\n",
       "      <td>Fitness is for everyone! This class is specifi...</td>\n",
       "      <td>5.4412</td>\n",
       "      <td>1.0000</td>\n",
       "      <td>5.4412</td>\n",
       "      <td>34</td>\n",
       "      <td>...</td>\n",
       "      <td>NaN</td>\n",
       "      <td>NaN</td>\n",
       "      <td>NaN</td>\n",
       "      <td>NaN</td>\n",
       "      <td>NaN</td>\n",
       "      <td>[]</td>\n",
       "      <td>False</td>\n",
       "      <td>0</td>\n",
       "      <td>0</td>\n",
       "      <td>False</td>\n",
       "    </tr>\n",
       "    <tr>\n",
       "      <th>3</th>\n",
       "      <td>456c31fa70e1401bbd1a8d3645fcb7de</td>\n",
       "      <td>{'is_available': True, 'reason': None}</td>\n",
       "      <td>['c87e20095d80463db5ce04df7fe2b989']</td>\n",
       "      <td>peloton</td>\n",
       "      <td>video</td>\n",
       "      <td>We dare you not to dance as you ride to all th...</td>\n",
       "      <td>7.4185</td>\n",
       "      <td>0.9904</td>\n",
       "      <td>7.4185</td>\n",
       "      <td>325</td>\n",
       "      <td>...</td>\n",
       "      <td>NaN</td>\n",
       "      <td>NaN</td>\n",
       "      <td>NaN</td>\n",
       "      <td>NaN</td>\n",
       "      <td>NaN</td>\n",
       "      <td>[]</td>\n",
       "      <td>False</td>\n",
       "      <td>0</td>\n",
       "      <td>0</td>\n",
       "      <td>False</td>\n",
       "    </tr>\n",
       "    <tr>\n",
       "      <th>4</th>\n",
       "      <td>3e90962d533440acb3cd14f4fee40443</td>\n",
       "      <td>{'is_available': True, 'reason': None}</td>\n",
       "      <td>['a9456fd677744f2ab9504d4accae96fd']</td>\n",
       "      <td>peloton</td>\n",
       "      <td>video</td>\n",
       "      <td>Run to the beat of a high-energy hip hop playl...</td>\n",
       "      <td>7.6496</td>\n",
       "      <td>1.0000</td>\n",
       "      <td>7.6496</td>\n",
       "      <td>117</td>\n",
       "      <td>...</td>\n",
       "      <td>NaN</td>\n",
       "      <td>NaN</td>\n",
       "      <td>NaN</td>\n",
       "      <td>NaN</td>\n",
       "      <td>NaN</td>\n",
       "      <td>[]</td>\n",
       "      <td>False</td>\n",
       "      <td>0</td>\n",
       "      <td>0</td>\n",
       "      <td>False</td>\n",
       "    </tr>\n",
       "  </tbody>\n",
       "</table>\n",
       "<p>5 rows × 73 columns</p>\n",
       "</div>"
      ],
      "text/plain": [
       "                                 id                            availability  \\\n",
       "0  d70e8e47a5be45f7aed2c8d9744cc94c  {'is_available': True, 'reason': None}   \n",
       "1  85dea6c843a143dca489d73a1d59fee0  {'is_available': True, 'reason': None}   \n",
       "2  9631041632fd488b80f5a8aacd69fb7d  {'is_available': True, 'reason': None}   \n",
       "3  456c31fa70e1401bbd1a8d3645fcb7de  {'is_available': True, 'reason': None}   \n",
       "4  3e90962d533440acb3cd14f4fee40443  {'is_available': True, 'reason': None}   \n",
       "\n",
       "                         class_type_ids content_provider content_format  \\\n",
       "0  ['a9456fd677744f2ab9504d4accae96fd']          peloton          video   \n",
       "1  ['59a49f882ea9475faa3110d50a8fb3f3']          peloton          video   \n",
       "2  ['6f3663cb0c4840f2bd51661695e481d2']          peloton          video   \n",
       "3  ['c87e20095d80463db5ce04df7fe2b989']          peloton          video   \n",
       "4  ['a9456fd677744f2ab9504d4accae96fd']          peloton          video   \n",
       "\n",
       "                                         description  difficulty_estimate  \\\n",
       "0  Run to the beat of a high-energy pop playlist ...               6.6279   \n",
       "1  This class is spent primarily in the saddle to...               6.2143   \n",
       "2  Fitness is for everyone! This class is specifi...               5.4412   \n",
       "3  We dare you not to dance as you ride to all th...               7.4185   \n",
       "4  Run to the beat of a high-energy hip hop playl...               7.6496   \n",
       "\n",
       "   overall_estimate  difficulty_rating_avg  difficulty_rating_count  ...  \\\n",
       "0            1.0000                 6.6279                       43  ...   \n",
       "1            1.0000                 6.2143                      308  ...   \n",
       "2            1.0000                 5.4412                       34  ...   \n",
       "3            0.9904                 7.4185                      325  ...   \n",
       "4            1.0000                 7.6496                      117  ...   \n",
       "\n",
       "  thumbnail_title  thumbnail_location distance distance_unit  \\\n",
       "0             NaN                 NaN      NaN           NaN   \n",
       "1             NaN                 NaN      NaN           NaN   \n",
       "2             NaN                 NaN      NaN           NaN   \n",
       "3             NaN                 NaN      NaN           NaN   \n",
       "4             NaN                 NaN      NaN           NaN   \n",
       "\n",
       "   distance_display_value muscle_group_score is_sessions_eligible  \\\n",
       "0                     NaN                 []                False   \n",
       "1                     NaN                 []                 True   \n",
       "2                     NaN                 []                False   \n",
       "3                     NaN                 []                False   \n",
       "4                     NaN                 []                False   \n",
       "\n",
       "  total_user_workouts  total_following_workouts  is_favorite  \n",
       "0                   0                         0        False  \n",
       "1                   0                         0        False  \n",
       "2                   0                         0        False  \n",
       "3                   0                         0        False  \n",
       "4                   0                         0        False  \n",
       "\n",
       "[5 rows x 73 columns]"
      ]
     },
     "execution_count": 22,
     "metadata": {},
     "output_type": "execute_result"
    }
   ],
   "source": [
    "#Jayavelu BAlaji\n",
    "workouts_df = pd.read_csv('datasets/workouts.csv', low_memory=False)\n",
    "classtypes_df = pd.read_csv('datasets/metadata/class_types-metadata.csv',low_memory=False)\n",
    "instructors_df = pd.read_csv('datasets/metadata/instructors-metadata.csv',low_memory=False)\n",
    "workouts_df.head()"
   ]
  },
  {
   "cell_type": "code",
   "execution_count": 23,
   "id": "b8668077",
   "metadata": {},
   "outputs": [
    {
     "data": {
      "text/plain": [
       "Index(['id', 'availability', 'class_type_ids', 'content_provider',\n",
       "       'content_format', 'description', 'difficulty_estimate',\n",
       "       'overall_estimate', 'difficulty_rating_avg', 'difficulty_rating_count',\n",
       "       'difficulty_level', 'duration', 'equipment_ids', 'equipment_tags',\n",
       "       'explicit_rating', 'extra_images', 'fitness_discipline',\n",
       "       'fitness_discipline_display_name', 'has_closed_captions',\n",
       "       'has_pedaling_metrics', 'home_peloton_id', 'image_url', 'instructor_id',\n",
       "       'individual_instructor_ids', 'is_archived', 'is_closed_caption_shown',\n",
       "       'is_explicit', 'has_free_mode', 'is_live_in_studio_only', 'language',\n",
       "       'origin_locale', 'length', 'live_stream_id', 'live_stream_url',\n",
       "       'location', 'metrics', 'original_air_time', 'overall_rating_avg',\n",
       "       'overall_rating_count', 'pedaling_start_offset', 'pedaling_end_offset',\n",
       "       'pedaling_duration', 'rating', 'ride_type_id', 'ride_type_ids',\n",
       "       'sample_vod_stream_url', 'sample_preview_stream_url',\n",
       "       'scheduled_start_time', 'series_id', 'sold_out', 'studio_peloton_id',\n",
       "       'title', 'total_ratings', 'total_in_progress_workouts',\n",
       "       'total_workouts', 'vod_stream_url', 'vod_stream_id', 'captions',\n",
       "       'join_tokens', 'flags', 'is_dynamic_video_eligible',\n",
       "       'is_fixed_distance', 'dynamic_video_recorded_speed_in_mph',\n",
       "       'thumbnail_title', 'thumbnail_location', 'distance', 'distance_unit',\n",
       "       'distance_display_value', 'muscle_group_score', 'is_sessions_eligible',\n",
       "       'total_user_workouts', 'total_following_workouts', 'is_favorite'],\n",
       "      dtype='object')"
      ]
     },
     "execution_count": 23,
     "metadata": {},
     "output_type": "execute_result"
    }
   ],
   "source": [
    "#Jayavelu BAlaji\n",
    "workouts_df.columns"
   ]
  },
  {
   "cell_type": "markdown",
   "id": "e402da7d",
   "metadata": {},
   "source": [
    "# Preprocessing "
   ]
  },
  {
   "cell_type": "raw",
   "id": "b09c86cd",
   "metadata": {},
   "source": [
    "This code performs training using a linear regression model and cross-validation to predict missing values in the difficulty_rating_avg column based on the fitness_discipline feature."
   ]
  },
  {
   "cell_type": "code",
   "execution_count": 24,
   "id": "0a1773b0",
   "metadata": {
    "scrolled": false
   },
   "outputs": [],
   "source": [
    "#Jayavelu BAlaji\n",
    "# Load the data into a DataFrame\n",
    "data = workouts_df.copy()\n",
    "\n",
    "# Prepare the data for training\n",
    "features = ['fitness_discipline']\n",
    "target = 'difficulty_rating_avg'\n",
    "\n",
    "# Split the data into training and test sets\n",
    "train_data = data[data[target].notnull()]\n",
    "test_data = data[data[target].isnull()]\n",
    "\n",
    "# Split the features and target variables\n",
    "X_train = train_data[features]\n",
    "y_train = train_data[target]\n",
    "\n",
    "# Perform one-hot encoding on the fitness_discipline column\n",
    "encoder = OneHotEncoder(sparse=False)\n",
    "X_train_encoded = encoder.fit_transform(X_train)\n",
    "\n",
    "# Train the linear regression model using cross-validation\n",
    "model = LinearRegression()\n",
    "predicted_values = cross_val_predict(model, X_train_encoded, y_train, cv=5)\n",
    "\n",
    "# Fill the missing values with the predicted values\n",
    "data.loc[data[target].isnull(), target] = predicted_values\n"
   ]
  },
  {
   "cell_type": "code",
   "execution_count": 25,
   "id": "7d01499f",
   "metadata": {},
   "outputs": [
    {
     "data": {
      "text/plain": [
       "array([nan, 'intermediate', 'advanced', 'beginner'], dtype=object)"
      ]
     },
     "execution_count": 25,
     "metadata": {},
     "output_type": "execute_result"
    }
   ],
   "source": [
    "data.difficulty_level.unique()"
   ]
  },
  {
   "cell_type": "code",
   "execution_count": 26,
   "id": "371d5264",
   "metadata": {},
   "outputs": [
    {
     "data": {
      "text/plain": [
       "array(['advanced', 'intermediate', 'beginner'], dtype=object)"
      ]
     },
     "execution_count": 26,
     "metadata": {},
     "output_type": "execute_result"
    }
   ],
   "source": [
    "#Jayavelu BAlaji\n",
    "# Define a function to map difficulty_rating_avg values to difficulty_level\n",
    "def map_difficulty_level(difficulty_rating_avg):\n",
    "    if difficulty_rating_avg <= 5:\n",
    "        return 'beginner'\n",
    "    elif difficulty_rating_avg <= 7:\n",
    "        return 'intermediate'\n",
    "    else:\n",
    "        return 'advanced'\n",
    "\n",
    "# Apply the mapping function to fill the missing values in difficulty_level\n",
    "data['difficulty_level'] = data['difficulty_level'].apply(\n",
    "    lambda x: map_difficulty_level(x) if pd.isnull(x) else x\n",
    ")\n",
    "data.difficulty_level.unique()"
   ]
  },
  {
   "cell_type": "markdown",
   "id": "623f6772",
   "metadata": {},
   "source": [
    "#  Analysis "
   ]
  },
  {
   "cell_type": "code",
   "execution_count": 27,
   "id": "092df374",
   "metadata": {},
   "outputs": [
    {
     "data": {
      "image/png": "[encoded data removed]",
      "text/plain": [
       "<Figure size 432x288 with 1 Axes>"
      ]
     },
     "metadata": {
      "needs_background": "light"
     },
     "output_type": "display_data"
    }
   ],
   "source": [
    "#Jayavelu BAlaji\n",
    "import seaborn as sns\n",
    "import matplotlib.pyplot as plt\n",
    "# Plotting the data\n",
    "sns.violinplot(data=data, x='is_favorite', y='difficulty_rating_avg')\n",
    "plt.xlabel('Is Favorite')\n",
    "plt.ylabel('Difficulty Rating')\n",
    "plt.title('Difficulty Rating vs. Is Favorite')\n",
    "plt.show()"
   ]
  },
  {
   "cell_type": "code",
   "execution_count": 28,
   "id": "2441f680",
   "metadata": {},
   "outputs": [
    {
     "name": "stdout",
     "output_type": "stream",
     "text": [
      "Correlation coefficient: 0.03139632226468581\n"
     ]
    }
   ],
   "source": [
    "#Jayavelu BAlaji\n",
    "correlation = data['difficulty_rating_avg'].corr(data['is_favorite'])\n",
    "print(\"Correlation coefficient:\", correlation)"
   ]
  },
  {
   "cell_type": "raw",
   "id": "88bdc7aa",
   "metadata": {},
   "source": [
    "Based on the provided cross-tabulation table, we can observe the following counts:\n",
    "\n",
    "- For items that are not marked as favorites (`is_favorite = False`):\n",
    "  - The count of items with difficulty ratings below or equal to 6 is 9,415.\n",
    "  - The count of items with difficulty ratings above 6 is 23,016.\n",
    "\n",
    "- For items that are marked as favorites (`is_favorite = True`):\n",
    "  - The count of items with difficulty ratings below or equal to 6 is 5.\n",
    "  - The count of items with difficulty ratings above 6 is 92.\n",
    "\n",
    "From this information, we can infer that there are very few items marked as favorites with difficulty ratings above 6. However, a large number of items that are not marked as favorites have both difficulty ratings below or equal to 6 and above 6.\n",
    "\n",
    "This suggests a potential association between the difficulty rating and favorability. The majority of items marked as favorites have difficulty ratings below or equal to 6, while items with higher difficulty ratings are less likely to be marked as favorites.\n",
    "\n",
    "It's important to note that this analysis is based on the provided data and the chosen threshold of 6. Further analysis and exploration may be required to fully understand the relationship between difficulty ratings and favorability."
   ]
  },
  {
   "cell_type": "code",
   "execution_count": 29,
   "id": "4e019f4a",
   "metadata": {},
   "outputs": [],
   "source": [
    "#Jayavelu BAlaji\n",
    "# Remove duplicate data\n",
    "df = data.drop_duplicates()\n",
    "\n"
   ]
  },
  {
   "cell_type": "code",
   "execution_count": 30,
   "id": "263a373e",
   "metadata": {},
   "outputs": [
    {
     "name": "stdout",
     "output_type": "stream",
     "text": [
      "difficulty_rating_avg  0.0000   2.2380   2.3713   2.3718   2.4450   2.5428   \\\n",
      "difficulty_level                                                              \n",
      "advanced                     0        0        0        0        0        0   \n",
      "beginner                     0        1        1        1        1        1   \n",
      "intermediate                 2        0        0        0        0        0   \n",
      "\n",
      "difficulty_rating_avg  2.5615   2.5622   2.5796   2.5886   ...  8.9014   \\\n",
      "difficulty_level                                           ...            \n",
      "advanced                     0        0        0        0  ...        0   \n",
      "beginner                     1        1        1        1  ...        0   \n",
      "intermediate                 0        0        0        0  ...        1   \n",
      "\n",
      "difficulty_rating_avg  8.9169   8.9467   8.9716   9.0000   9.0396   9.0522   \\\n",
      "difficulty_level                                                              \n",
      "advanced                     1        0        1        0        1        1   \n",
      "beginner                     0        0        0        0        0        0   \n",
      "intermediate                 0        1        0        1        0        0   \n",
      "\n",
      "difficulty_rating_avg  9.0531   9.0600   10.0000  \n",
      "difficulty_level                                  \n",
      "advanced                     1        1        1  \n",
      "beginner                     0        0        0  \n",
      "intermediate                 0        0        0  \n",
      "\n",
      "[3 rows x 8471 columns]\n"
     ]
    }
   ],
   "source": [
    "#Jayavelu BAlaji\n",
    "# Create a cross-tabulation table\n",
    "cross_tab = pd.crosstab(index=workouts_df['difficulty_level'], columns=workouts_df['difficulty_rating_avg'])\n",
    "\n",
    "# Print the cross-tabulation table\n",
    "print(cross_tab)"
   ]
  },
  {
   "cell_type": "markdown",
   "id": "29df7f4f",
   "metadata": {},
   "source": [
    "# Inference from above data \n",
    "The cross-tabulation table provides insights into the distribution of \"difficulty_rating_avg\" values for each \"difficulty_level\" category. It allows us to infer the relationship between these two variables and identify any patterns or trends.\n",
    "\n",
    "From the table, we can observe the following:\n",
    "\n",
    "- For the \"advanced\" difficulty level, there are counts of 0 for all \"difficulty_rating_avg\" values except for a count of 1 for values 8.9169, 8.9716, 9.0396, 9.0522, 9.0531, 9.0600, and 10.0000.\n",
    "\n",
    "- For the \"beginner\" difficulty level, there is a count of 1 for each \"difficulty_rating_avg\" value from 2.2380 to 2.5886. All other values have a count of 0.\n",
    "\n",
    "- For the \"intermediate\" difficulty level, there are counts of 2 for \"difficulty_rating_avg\" values 0.0000 and 8.9014. All other values have a count of 0.\n",
    "\n",
    "These observations suggest that there are specific difficulty ratings that are more prevalent for each difficulty level. The cross-tabulation helps us understand the distribution and relationship between the two variables."
   ]
  },
  {
   "cell_type": "markdown",
   "id": "aceec7ef",
   "metadata": {},
   "source": [
    "# Most Popular Class"
   ]
  },
  {
   "cell_type": "code",
   "execution_count": 31,
   "id": "a9898a62",
   "metadata": {},
   "outputs": [
    {
     "name": "stderr",
     "output_type": "stream",
     "text": [
      "/tmp/ipykernel_10898/3906897069.py:1: DtypeWarning: Columns (45,46) have mixed types. Specify dtype option on import or set low_memory=False.\n",
      "  workouts_df = pd.read_csv('datasets/workouts.csv', index_col='id')\n"
     ]
    },
    {
     "data": {
      "text/html": [
       "<div>\n",
       "<style scoped>\n",
       "    .dataframe tbody tr th:only-of-type {\n",
       "        vertical-align: middle;\n",
       "    }\n",
       "\n",
       "    .dataframe tbody tr th {\n",
       "        vertical-align: top;\n",
       "    }\n",
       "\n",
       "    .dataframe thead th {\n",
       "        text-align: right;\n",
       "    }\n",
       "</style>\n",
       "<table border=\"1\" class=\"dataframe\">\n",
       "  <thead>\n",
       "    <tr style=\"text-align: right;\">\n",
       "      <th></th>\n",
       "      <th>Number of Classes</th>\n",
       "    </tr>\n",
       "  </thead>\n",
       "  <tbody>\n",
       "    <tr>\n",
       "      <th>Music (Cycling)</th>\n",
       "      <td>6231</td>\n",
       "    </tr>\n",
       "    <tr>\n",
       "      <th>Intervals</th>\n",
       "      <td>2666</td>\n",
       "    </tr>\n",
       "    <tr>\n",
       "      <th>Yoga Flow</th>\n",
       "      <td>2194</td>\n",
       "    </tr>\n",
       "    <tr>\n",
       "      <th>Music (Running)</th>\n",
       "      <td>1960</td>\n",
       "    </tr>\n",
       "    <tr>\n",
       "      <th>Intervals Running</th>\n",
       "      <td>1060</td>\n",
       "    </tr>\n",
       "    <tr>\n",
       "      <th>...</th>\n",
       "      <td>...</td>\n",
       "    </tr>\n",
       "    <tr>\n",
       "      <th>Peloton Studio Original (Cycling)</th>\n",
       "      <td>3</td>\n",
       "    </tr>\n",
       "    <tr>\n",
       "      <th>Peloton Studio Original (Walking)</th>\n",
       "      <td>3</td>\n",
       "    </tr>\n",
       "    <tr>\n",
       "      <th>Beyond the Pose (Meditation)</th>\n",
       "      <td>2</td>\n",
       "    </tr>\n",
       "    <tr>\n",
       "      <th>Core Stretch</th>\n",
       "      <td>1</td>\n",
       "    </tr>\n",
       "    <tr>\n",
       "      <th>Rowing (Pace Targets)</th>\n",
       "      <td>1</td>\n",
       "    </tr>\n",
       "  </tbody>\n",
       "</table>\n",
       "<p>98 rows × 1 columns</p>\n",
       "</div>"
      ],
      "text/plain": [
       "                                   Number of Classes\n",
       "Music (Cycling)                                 6231\n",
       "Intervals                                       2666\n",
       "Yoga Flow                                       2194\n",
       "Music (Running)                                 1960\n",
       "Intervals Running                               1060\n",
       "...                                              ...\n",
       "Peloton Studio Original (Cycling)                  3\n",
       "Peloton Studio Original (Walking)                  3\n",
       "Beyond the Pose (Meditation)                       2\n",
       "Core Stretch                                       1\n",
       "Rowing (Pace Targets)                              1\n",
       "\n",
       "[98 rows x 1 columns]"
      ]
     },
     "execution_count": 31,
     "metadata": {},
     "output_type": "execute_result"
    }
   ],
   "source": [
    "#Jayavelu BAlaji\n",
    "workouts_df = pd.read_csv('datasets/workouts.csv', index_col='id')\n",
    "classtypes_df = pd.read_csv('datasets/metadata/class_types-metadata.csv', index_col='id') \n",
    "workouts_df['class_type_ids'] = [classtypes_df.loc[x[2:-2]][\"name\"] if x[2:-2] in classtypes_df.index else None for x in workouts_df['class_type_ids']]\n",
    "class_type_counts = workouts_df['class_type_ids'].value_counts()\n",
    "class_type_df = pd.DataFrame(class_type_counts)\n",
    "class_type_df.columns =['Number of Classes']\n",
    "class_type_df"
   ]
  },
  {
   "cell_type": "code",
   "execution_count": 32,
   "id": "9f11244a",
   "metadata": {},
   "outputs": [
    {
     "data": {
      "image/png": "[encoded data removed]",
      "text/plain": [
       "<Figure size 432x288 with 1 Axes>"
      ]
     },
     "metadata": {
      "needs_background": "light"
     },
     "output_type": "display_data"
    }
   ],
   "source": [
    "ax = class_type_df[0:10].plot.bar(use_index=True, y='Number of Classes')"
   ]
  },
  {
   "cell_type": "markdown",
   "id": "139902a4",
   "metadata": {},
   "source": [
    "# Trying to solve a   binary classification problem. Specifically, it is attempting to predict whether a workout is marked as a favorite or not based on certain features.\n",
    "\n",
    "The dataset used in the code contains information about workouts, such as duration, difficulty level, fitness discipline, and overall rating average. The target variable, 'is_favorite', indicates whether a particular workout is marked as a favorite by users.\n",
    "\n",
    "By training a Random Forest Classifier on this data, the code aims to learn patterns and relationships between the given features and the target variable. Once the model is trained, it can make predictions on new, unseen data to determine whether a workout is likely to be marked as a favorite or not.\n",
    "\n",
    "This classification problem can have various applications in the fitness industry. For example, it can help fitness platforms like Peloton understand the factors that contribute to user engagement and identify which workouts are more likely to be favored by users. This information can then be used to personalize recommendations, improve user experience, and optimize content creation to increase user satisfaction and retention.\n",
    "\n",
    "Note: The specific problem being solved may vary depending on the dataset and the context in which the code is applied."
   ]
  },
  {
   "cell_type": "code",
   "execution_count": 33,
   "id": "5055599c",
   "metadata": {},
   "outputs": [
    {
     "name": "stderr",
     "output_type": "stream",
     "text": [
      "/tmp/ipykernel_10898/2556882643.py:2: DtypeWarning: Columns (45,46) have mixed types. Specify dtype option on import or set low_memory=False.\n",
      "  dataset = pd.read_csv('datasets/workouts.csv')\n"
     ]
    },
    {
     "data": {
      "text/html": [
       "<style>#sk-container-id-2 {color: black;background-color: white;}#sk-container-id-2 pre{padding: 0;}#sk-container-id-2 div.sk-toggleable {background-color: white;}#sk-container-id-2 label.sk-toggleable__label {cursor: pointer;display: block;width: 100%;margin-bottom: 0;padding: 0.3em;box-sizing: border-box;text-align: center;}#sk-container-id-2 label.sk-toggleable__label-arrow:before {content: \"▸\";float: left;margin-right: 0.25em;color: #696969;}#sk-container-id-2 label.sk-toggleable__label-arrow:hover:before {color: black;}#sk-container-id-2 div.sk-estimator:hover label.sk-toggleable__label-arrow:before {color: black;}#sk-container-id-2 div.sk-toggleable__content {max-height: 0;max-width: 0;overflow: hidden;text-align: left;background-color: #f0f8ff;}#sk-container-id-2 div.sk-toggleable__content pre {margin: 0.2em;color: black;border-radius: 0.25em;background-color: #f0f8ff;}#sk-container-id-2 input.sk-toggleable__control:checked~div.sk-toggleable__content {max-height: 200px;max-width: 100%;overflow: auto;}#sk-container-id-2 input.sk-toggleable__control:checked~label.sk-toggleable__label-arrow:before {content: \"▾\";}#sk-container-id-2 div.sk-estimator input.sk-toggleable__control:checked~label.sk-toggleable__label {background-color: #d4ebff;}#sk-container-id-2 div.sk-label input.sk-toggleable__control:checked~label.sk-toggleable__label {background-color: #d4ebff;}#sk-container-id-2 input.sk-hidden--visually {border: 0;clip: rect(1px 1px 1px 1px);clip: rect(1px, 1px, 1px, 1px);height: 1px;margin: -1px;overflow: hidden;padding: 0;position: absolute;width: 1px;}#sk-container-id-2 div.sk-estimator {font-family: monospace;background-color: #f0f8ff;border: 1px dotted black;border-radius: 0.25em;box-sizing: border-box;margin-bottom: 0.5em;}#sk-container-id-2 div.sk-estimator:hover {background-color: #d4ebff;}#sk-container-id-2 div.sk-parallel-item::after {content: \"\";width: 100%;border-bottom: 1px solid gray;flex-grow: 1;}#sk-container-id-2 div.sk-label:hover label.sk-toggleable__label {background-color: #d4ebff;}#sk-container-id-2 div.sk-serial::before {content: \"\";position: absolute;border-left: 1px solid gray;box-sizing: border-box;top: 0;bottom: 0;left: 50%;z-index: 0;}#sk-container-id-2 div.sk-serial {display: flex;flex-direction: column;align-items: center;background-color: white;padding-right: 0.2em;padding-left: 0.2em;position: relative;}#sk-container-id-2 div.sk-item {position: relative;z-index: 1;}#sk-container-id-2 div.sk-parallel {display: flex;align-items: stretch;justify-content: center;background-color: white;position: relative;}#sk-container-id-2 div.sk-item::before, #sk-container-id-2 div.sk-parallel-item::before {content: \"\";position: absolute;border-left: 1px solid gray;box-sizing: border-box;top: 0;bottom: 0;left: 50%;z-index: -1;}#sk-container-id-2 div.sk-parallel-item {display: flex;flex-direction: column;z-index: 1;position: relative;background-color: white;}#sk-container-id-2 div.sk-parallel-item:first-child::after {align-self: flex-end;width: 50%;}#sk-container-id-2 div.sk-parallel-item:last-child::after {align-self: flex-start;width: 50%;}#sk-container-id-2 div.sk-parallel-item:only-child::after {width: 0;}#sk-container-id-2 div.sk-dashed-wrapped {border: 1px dashed gray;margin: 0 0.4em 0.5em 0.4em;box-sizing: border-box;padding-bottom: 0.4em;background-color: white;}#sk-container-id-2 div.sk-label label {font-family: monospace;font-weight: bold;display: inline-block;line-height: 1.2em;}#sk-container-id-2 div.sk-label-container {text-align: center;}#sk-container-id-2 div.sk-container {/* jupyter's `normalize.less` sets `[hidden] { display: none; }` but bootstrap.min.css set `[hidden] { display: none !important; }` so we also need the `!important` here to be able to override the default hidden behavior on the sphinx rendered scikit-learn.org. See: https://github.com/scikit-learn/scikit-learn/issues/21755 */display: inline-block !important;position: relative;}#sk-container-id-2 div.sk-text-repr-fallback {display: none;}</style><div id=\"sk-container-id-2\" class=\"sk-top-container\"><div class=\"sk-text-repr-fallback\"><pre>RandomForestClassifier(random_state=42)</pre><b>In a Jupyter environment, please rerun this cell to show the HTML representation or trust the notebook. <br />On GitHub, the HTML representation is unable to render, please try loading this page with nbviewer.org.</b></div><div class=\"sk-container\" hidden><div class=\"sk-item\"><div class=\"sk-estimator sk-toggleable\"><input class=\"sk-toggleable__control sk-hidden--visually\" id=\"sk-estimator-id-2\" type=\"checkbox\" checked><label for=\"sk-estimator-id-2\" class=\"sk-toggleable__label sk-toggleable__label-arrow\">RandomForestClassifier</label><div class=\"sk-toggleable__content\"><pre>RandomForestClassifier(random_state=42)</pre></div></div></div></div></div>"
      ],
      "text/plain": [
       "RandomForestClassifier(random_state=42)"
      ]
     },
     "execution_count": 33,
     "metadata": {},
     "output_type": "execute_result"
    }
   ],
   "source": [
    "#Jayavelu BAlaji\n",
    "# Load the workout dataset\n",
    "dataset = pd.read_csv('datasets/workouts.csv')\n",
    "\n",
    "# Select relevant columns for the model\n",
    "features = ['duration', 'difficulty_level', 'fitness_discipline', 'overall_rating_avg']\n",
    "target = 'is_favorite'\n",
    "\n",
    "# Drop rows with missing values\n",
    "dataset = dataset.dropna(subset=features + [target])\n",
    "\n",
    "# Apply label encoding to categorical variables\n",
    "label_encoder = LabelEncoder()\n",
    "dataset['difficulty_level'] = label_encoder.fit_transform(dataset['difficulty_level'])\n",
    "dataset['fitness_discipline'] = label_encoder.fit_transform(dataset['fitness_discipline'])\n",
    "\n",
    "# Split the data into features (X) and target (y)\n",
    "X = dataset[features]\n",
    "y = dataset[target]\n",
    "\n",
    "# Split the data into training and testing sets\n",
    "X_train, X_test, y_train, y_test = train_test_split(X, y, test_size=0.2, random_state=42)\n",
    "\n",
    "# Create a Random Forest Classifier\n",
    "model = RandomForestClassifier(n_estimators=100, random_state=42)\n",
    "\n",
    "# Train the model\n",
    "model.fit(X_train, y_train)\n"
   ]
  },
  {
   "cell_type": "code",
   "execution_count": 34,
   "id": "29f8f953",
   "metadata": {},
   "outputs": [
    {
     "name": "stdout",
     "output_type": "stream",
     "text": [
      "Accuracy: 0.9994739610731194\n",
      "              precision    recall  f1-score   support\n",
      "\n",
      "       False       1.00      1.00      1.00      1900\n",
      "        True       0.00      0.00      0.00         1\n",
      "\n",
      "    accuracy                           1.00      1901\n",
      "   macro avg       0.50      0.50      0.50      1901\n",
      "weighted avg       1.00      1.00      1.00      1901\n",
      "\n"
     ]
    },
    {
     "name": "stderr",
     "output_type": "stream",
     "text": [
      "/home/jay/.local/lib/python3.10/site-packages/sklearn/metrics/_classification.py:1327: UndefinedMetricWarning: Precision and F-score are ill-defined and being set to 0.0 in labels with no predicted samples. Use `zero_division` parameter to control this behavior.\n",
      "  _warn_prf(average, modifier, msg_start, len(result))\n",
      "/home/jay/.local/lib/python3.10/site-packages/sklearn/metrics/_classification.py:1327: UndefinedMetricWarning: Precision and F-score are ill-defined and being set to 0.0 in labels with no predicted samples. Use `zero_division` parameter to control this behavior.\n",
      "  _warn_prf(average, modifier, msg_start, len(result))\n",
      "/home/jay/.local/lib/python3.10/site-packages/sklearn/metrics/_classification.py:1327: UndefinedMetricWarning: Precision and F-score are ill-defined and being set to 0.0 in labels with no predicted samples. Use `zero_division` parameter to control this behavior.\n",
      "  _warn_prf(average, modifier, msg_start, len(result))\n"
     ]
    }
   ],
   "source": [
    "#karen ipema\n",
    "# Make predictions\n",
    "y_pred = model.predict(X_test)\n",
    "\n",
    "# Evaluate the model\n",
    "accuracy = accuracy_score(y_test, y_pred)\n",
    "print(f'Accuracy: {accuracy}')\n",
    "\n",
    "# Print classification report\n",
    "print(classification_report(y_test, y_pred))"
   ]
  },
  {
   "cell_type": "markdown",
   "id": "f8262eaa",
   "metadata": {},
   "source": [
    "# Preprocessing to NLP MODEL "
   ]
  },
  {
   "cell_type": "code",
   "execution_count": 35,
   "id": "1ef5dfc5",
   "metadata": {},
   "outputs": [],
   "source": [
    "#Jayavelu BAlaji\n",
    "instructors = instructors_df.dropna(subset=['bio'])"
   ]
  },
  {
   "cell_type": "code",
   "execution_count": 36,
   "id": "120e64d1",
   "metadata": {},
   "outputs": [
    {
     "data": {
      "text/plain": [
       "Index(['id', 'availability', 'class_type_ids', 'content_provider',\n",
       "       'content_format', 'description', 'difficulty_estimate',\n",
       "       'overall_estimate', 'difficulty_rating_avg', 'difficulty_rating_count',\n",
       "       'difficulty_level', 'duration', 'equipment_ids', 'equipment_tags',\n",
       "       'explicit_rating', 'extra_images', 'fitness_discipline',\n",
       "       'fitness_discipline_display_name', 'has_closed_captions',\n",
       "       'has_pedaling_metrics', 'home_peloton_id', 'image_url', 'instructor_id',\n",
       "       'individual_instructor_ids', 'is_archived', 'is_closed_caption_shown',\n",
       "       'is_explicit', 'has_free_mode', 'is_live_in_studio_only', 'language',\n",
       "       'origin_locale', 'length', 'live_stream_id', 'live_stream_url',\n",
       "       'location', 'metrics', 'original_air_time', 'overall_rating_avg',\n",
       "       'overall_rating_count', 'pedaling_start_offset', 'pedaling_end_offset',\n",
       "       'pedaling_duration', 'rating', 'ride_type_id', 'ride_type_ids',\n",
       "       'sample_vod_stream_url', 'sample_preview_stream_url',\n",
       "       'scheduled_start_time', 'series_id', 'sold_out', 'studio_peloton_id',\n",
       "       'title', 'total_ratings', 'total_in_progress_workouts',\n",
       "       'total_workouts', 'vod_stream_url', 'vod_stream_id', 'captions',\n",
       "       'join_tokens', 'flags', 'is_dynamic_video_eligible',\n",
       "       'is_fixed_distance', 'dynamic_video_recorded_speed_in_mph',\n",
       "       'thumbnail_title', 'thumbnail_location', 'distance', 'distance_unit',\n",
       "       'distance_display_value', 'muscle_group_score', 'is_sessions_eligible',\n",
       "       'total_user_workouts', 'total_following_workouts', 'is_favorite'],\n",
       "      dtype='object')"
      ]
     },
     "execution_count": 36,
     "metadata": {},
     "output_type": "execute_result"
    }
   ],
   "source": [
    "#Jayavelu BAlaji\n",
    "data.columns"
   ]
  },
  {
   "cell_type": "code",
   "execution_count": 37,
   "id": "9ef40ca6",
   "metadata": {},
   "outputs": [
    {
     "data": {
      "text/plain": [
       "Index(['id', 'bio', 'short_bio', 'coach_type', 'is_filterable',\n",
       "       'is_instructor_group', 'is_visible', 'is_announced', 'list_order',\n",
       "       'featured_profile', 'film_link', 'facebook_fan_page', 'music_bio',\n",
       "       'spotify_playlist_uri', 'background', 'ordered_q_and_as',\n",
       "       'instagram_profile', 'strava_profile', 'twitter_profile', 'quote',\n",
       "       'username', 'name', 'first_name', 'last_name', 'user_id',\n",
       "       'life_style_image_url', 'bike_instructor_list_display_image_url',\n",
       "       'web_instructor_list_display_image_url',\n",
       "       'ios_instructor_list_display_image_url', 'about_image_url', 'image_url',\n",
       "       'jumbotron_url', 'jumbotron_url_dark', 'jumbotron_url_ios',\n",
       "       'web_instructor_list_gif_image_url', 'instructor_hero_image_url',\n",
       "       'workout_share_images', 'fitness_disciplines'],\n",
       "      dtype='object')"
      ]
     },
     "execution_count": 37,
     "metadata": {},
     "output_type": "execute_result"
    }
   ],
   "source": [
    "#Jayavelu BAlaji\n",
    "instructors.columns"
   ]
  },
  {
   "cell_type": "code",
   "execution_count": 38,
   "id": "b3cda657",
   "metadata": {},
   "outputs": [],
   "source": [
    "#Jayavelu BAlaji\n",
    "# Check if ID exists in df2\n",
    "df_merged = pd.merge(data, instructors[['id', 'bio']], how='left', left_on='instructor_id', right_on='id')\n",
    "\n",
    "# Rename the 'bio' column from df2 to 'additional_bio'\n",
    "df_merged = df_merged.rename(columns={'bio': 'instructor_bio','image_url':'instructor_img'})"
   ]
  },
  {
   "cell_type": "code",
   "execution_count": 39,
   "id": "4dc3f764",
   "metadata": {},
   "outputs": [],
   "source": [
    "#Jayavelu BAlaji\n",
    "df = df_merged.drop(['instructor_id','id_x'],axis =1) "
   ]
  },
  {
   "cell_type": "code",
   "execution_count": 40,
   "id": "82c39318",
   "metadata": {},
   "outputs": [
    {
     "data": {
      "text/plain": [
       "Index(['availability', 'class_type_ids', 'content_provider', 'content_format',\n",
       "       'description', 'difficulty_estimate', 'overall_estimate',\n",
       "       'difficulty_rating_avg', 'difficulty_rating_count', 'difficulty_level',\n",
       "       'duration', 'equipment_ids', 'equipment_tags', 'explicit_rating',\n",
       "       'extra_images', 'fitness_discipline', 'fitness_discipline_display_name',\n",
       "       'has_closed_captions', 'has_pedaling_metrics', 'home_peloton_id',\n",
       "       'instructor_img', 'individual_instructor_ids', 'is_archived',\n",
       "       'is_closed_caption_shown', 'is_explicit', 'has_free_mode',\n",
       "       'is_live_in_studio_only', 'language', 'origin_locale', 'length',\n",
       "       'live_stream_id', 'live_stream_url', 'location', 'metrics',\n",
       "       'original_air_time', 'overall_rating_avg', 'overall_rating_count',\n",
       "       'pedaling_start_offset', 'pedaling_end_offset', 'pedaling_duration',\n",
       "       'rating', 'ride_type_id', 'ride_type_ids', 'sample_vod_stream_url',\n",
       "       'sample_preview_stream_url', 'scheduled_start_time', 'series_id',\n",
       "       'sold_out', 'studio_peloton_id', 'title', 'total_ratings',\n",
       "       'total_in_progress_workouts', 'total_workouts', 'vod_stream_url',\n",
       "       'vod_stream_id', 'captions', 'join_tokens', 'flags',\n",
       "       'is_dynamic_video_eligible', 'is_fixed_distance',\n",
       "       'dynamic_video_recorded_speed_in_mph', 'thumbnail_title',\n",
       "       'thumbnail_location', 'distance', 'distance_unit',\n",
       "       'distance_display_value', 'muscle_group_score', 'is_sessions_eligible',\n",
       "       'total_user_workouts', 'total_following_workouts', 'is_favorite',\n",
       "       'id_y', 'instructor_bio'],\n",
       "      dtype='object')"
      ]
     },
     "execution_count": 40,
     "metadata": {},
     "output_type": "execute_result"
    }
   ],
   "source": [
    "#Jayavelu BAlaji\n",
    "df.columns"
   ]
  },
  {
   "cell_type": "code",
   "execution_count": 41,
   "id": "bf7a4c84",
   "metadata": {},
   "outputs": [],
   "source": [
    "#Jayavelu BAlaji\n",
    "df = df[['class_type_ids','description','difficulty_rating_avg','instructor_bio','difficulty_level','content_format','language','has_closed_captions','instructor_img']]"
   ]
  },
  {
   "cell_type": "code",
   "execution_count": 42,
   "id": "10c80965",
   "metadata": {},
   "outputs": [
    {
     "data": {
      "text/plain": [
       "Index(['class_type_ids', 'description', 'difficulty_rating_avg',\n",
       "       'instructor_bio', 'difficulty_level', 'content_format', 'language',\n",
       "       'has_closed_captions', 'instructor_img'],\n",
       "      dtype='object')"
      ]
     },
     "execution_count": 42,
     "metadata": {},
     "output_type": "execute_result"
    }
   ],
   "source": [
    "#Jayavelu BAlaji\n",
    "df.columns"
   ]
  },
  {
   "cell_type": "code",
   "execution_count": 43,
   "id": "a4f1364b",
   "metadata": {},
   "outputs": [],
   "source": [
    "#Jayavelu BAlaji\n",
    "df.to_csv('peloton_nlp.csv') "
   ]
  },
  {
   "cell_type": "code",
   "execution_count": null,
   "id": "47470c26",
   "metadata": {},
   "outputs": [],
   "source": []
  }
 ],
 "metadata": {
  "kernelspec": {
   "display_name": "Python 3 (ipykernel)",
   "language": "python",
   "name": "python3"
  },
  "language_info": {
   "codemirror_mode": {
    "name": "ipython",
    "version": 3
   },
   "file_extension": ".py",
   "mimetype": "text/x-python",
   "name": "python",
   "nbconvert_exporter": "python",
   "pygments_lexer": "ipython3",
   "version": "3.10.6"
  }
 },
 "nbformat": 4,
 "nbformat_minor": 5
}
